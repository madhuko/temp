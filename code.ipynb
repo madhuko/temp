{
 "cells": [
  {
   "cell_type": "code",
   "execution_count": null,
   "metadata": {},
   "outputs": [],
   "source": [
    "import requests,json,datetime,time\n",
    "import pandas as pd\n",
    "from io import StringIO as sio\n",
    "pd.options.display.float_format = '{:,.2f}'.format\n",
    "from bs4 import BeautifulSoup\n",
    "import matplotlib.pyplot as plt\n",
    "import plotly.express as px\n",
    "\n",
    "header={\n",
    "    'User-Agent': 'Mozilla/5.0 (Windows NT 10.0; Win64; x64) AppleWebKit/537.36 (KHTML, like Gecko) Chrome/90.0.4430.212 Safari/537.36 Edg/90.0.818.66',\n",
    "    'Accept': '*/*',\n",
    "    'content-type': 'application/json',\n",
    "    'Accept-Encoding': 'gzip, deflate, br',\n",
    "    }\n",
    "\n",
    "def getaio(df):\n",
    "    buyer_stack=df.pivot_table(index=\"symbol\", columns='buyer',values=['qty','amt'],aggfunc={'qty':['sum','count'],'amt': 'sum'}).stack()\n",
    "    buyer_stack.columns.droplevel()\n",
    "    buyer_stack.columns='amount count qty'.split()\n",
    "    buyer_stack.columns='buy_'+buyer_stack.columns\n",
    "    seller_stack=df.pivot_table(index=\"symbol\", columns='seller',values=['qty','amt'],aggfunc={'qty':['sum','count'],'amt': 'sum'}).stack()\n",
    "    seller_stack.columns.droplevel()\n",
    "    seller_stack.columns='amount count qty'.split()\n",
    "    seller_stack.columns='sale_'+seller_stack.columns\n",
    "    buy_sale_stack=pd.concat([buyer_stack,seller_stack],axis=1)\n",
    "    buy_sale_stack.index.names=('symbol','broker')\n",
    "    buy_sale_stack.fillna(0,inplace=True)\n",
    "    buy_pct=buy_sale_stack.buy_qty.groupby(level=0).apply(lambda x: 100* x/x.sum())\n",
    "    sale_pct=buy_sale_stack.sale_qty.groupby(level=0).apply(lambda x: 100* x/x.sum())\n",
    "    aio=pd.concat([buy_sale_stack,buy_pct,sale_pct],axis=1)\n",
    "    col_name=list(aio.columns)\n",
    "    col_name[-2:]=[\"buy_pct\",'sale_pct']\n",
    "    aio.columns=col_name\n",
    "    aio.fillna(0,inplace=True)\n",
    "    return aio\n",
    "def get_fs(url):\n",
    "    df=pd.read_csv(sio(requests.get(url).text),thousands=',',low_memory=False)\n",
    "    df=df[\"TransactionNumber Symbol\tBuyerBrokerCode\tSellerBrokerCode\tQuantity\tRate\tAmount\".split()]\n",
    "    df.columns=\"contract symbol buyer seller qty rate amt\".split()\n",
    "    df.contract=df.contract.astype(str)\n",
    "    df.buyer=df.buyer.astype(str)\n",
    "    df.seller=df.seller.astype(str)\n",
    "    return df\n",
    "\n",
    "def latest_n_days(df,n):\n",
    "  unk=df.index.unique(level='date').sort_values(ascending=False)\n",
    "  return df.loc[unk[:n].sort_values()]\n",
    "\n",
    "chart_provider={\n",
    "'nepsechart':'https://ohlcv.nepsechart.com/history?symbol={symbol}&resolution={resolution}&from={fromtime}&to={totime}',\n",
    "'merocapital':'https://chartdata.merocapital.com/datafeed1/history?symbol={symbol}&resolution={resolution}&from={fromtime}&to={totime}',\n",
    "'merolaganida':'https://da.merolagani.com/handlers/TechnicalChartHandler.ashx?type=get_advanced_chart&symbol={symbol}&resolution={resolution}&rangeStartDate={fromtime}&rangeEndDate={totime}&from=&isAdjust=1&currencyCode=NPR',\n",
    "'merolagani':'https://www.merolagani.com/handlers/TechnicalChartHandler.ashx?type=get_advanced_chart&symbol={symbol}&resolution={resolution}&rangeStartDate={fromtime}&rangeEndDate={totime}&from=&isAdjust=1&currencyCode=NPR',\n",
    "'nepsealpha':'https://nepsealpha.com/trading/1/history?symbol={symbol}&resolution={resolution}&from={fromtime}&to={totime}&currencyCode=NRS',\n",
    "'nepsedata':'https://nepsedata.com/history?symbol={symbol}&resolution={resolution}&from={fromtime}&to={totime}&currencyCode=NRS'\n",
    "}\n",
    "def chart_data(provider='merolagani',symbol=\"NEPSE\",fromtime=datetime.date(2019,1,1),totime=datetime.datetime.now(),resolution=\"1D\"):\n",
    "    \"\"\"returns data fetched from nepsealpha,merocapital,merolagani and nepsechart.\\nwarning!! \\nNepsechart,merocapital takes D for daily resolution.\\nMerocapital,nepsedata gives unadjusted chart)\"\"\"\n",
    "    fromtime =int(time.mktime(fromtime.timetuple()))\n",
    "    totime =int(time.mktime(totime.timetuple())) \n",
    "    url=chart_provider.get(provider)\n",
    "    df=pd.read_json(requests.get(url.format(symbol=symbol,resolution=resolution,fromtime=fromtime,totime=totime),headers=header).content)\n",
    "    df['t']=df['t'].apply(datetime.datetime.utcfromtimestamp)\n",
    "    df.drop('s',axis=1,inplace=True)\n",
    "    return df"
   ]
  },
  {
   "cell_type": "code",
   "execution_count": null,
   "metadata": {},
   "outputs": [],
   "source": [
    "def get_madhuko_fs(dater):\n",
    "  url=\"https://raw.githubusercontent.com/madhuko/temp/main/fs/{}\".format(dater)\n",
    "  df=pd.read_csv(url,low_memory=False)\n",
    "  df.contract=df.contract.astype(str)\n",
    "  df.buyer=df.buyer.astype(str)\n",
    "  df.seller=df.seller.astype(str)\n",
    "  df.qty=df.qty.astype(float)\n",
    "  df.rate=df.rate.astype(float)\n",
    "  df.amt=df.amt.astype(float)\n",
    "  contract_1=df.contract[1]\n",
    "  if dater!=datetime.date(int(contract_1[:4]),int(contract_1[4:6]),int(contract_1[6:8])):\n",
    "    print(\"date valdation failed for {}\".format(dater))\n",
    "  return df\n",
    "  \n",
    "\n",
    "def getfs_nepsealpha(symbol,s):\n",
    "  fs=s.get(\"https://nepsealpha.com/floorsheet_ajx/{}/index\".format(symbol))\n",
    "  new_df=pd.read_html(sio(fs.json()['html']))\n",
    "  new_df[1][\"Symbol\"]=symbol\n",
    "  return new_df[1]\n",
    "\n",
    "def get_latest_fs():\n",
    "    s=requests.Session()\n",
    "    s.headers.update(header)\n",
    "    s.get(\"https://nepsealpha.com/trading/chart\")\n",
    "    df=pd.DataFrame()\n",
    "    live_market=pd.read_html(\"https://www.merolagani.com/LatestMarket.aspx\")[0]\n",
    "    for sym in live_market[\"Symbol\"]:\n",
    "        if \"/\" in sym:\n",
    "            continue\n",
    "        try:\n",
    "          ram=getfs_nepsealpha(sym,s)\n",
    "        except:\n",
    "          s=requests.Session()\n",
    "          s.headers.update(header)\n",
    "          s.get(\"https://nepsealpha.com/trading/chart\")\n",
    "          ram=getfs_nepsealpha(sym,s)\n",
    "        df=pd.concat([df,ram])\n",
    "        print(\"Collected data of {}\".format(sym))\n",
    "    df.columns='contract buyer seller qty rate amt symbol'.split()\n",
    "    df[\"amt\"]=df[\"amt\"].apply(lambda x: x.replace(\"NPR\",\"\"))\n",
    "    df[\"amt\"]=df[\"amt\"].apply(lambda x: x.replace(\",\",\"\"))\n",
    "    df.amt=df.amt.astype(float)\n",
    "    df.buyer=df.buyer.astype(str)\n",
    "    df.seller=df.seller.astype(str)\n",
    "    df[\"rate\"]=df[\"rate\"].apply(lambda x: x.replace(\"NPR \",\"\"))\n",
    "    return df"
   ]
  },
  {
   "cell_type": "code",
   "execution_count": null,
   "metadata": {},
   "outputs": [],
   "source": [
    "init_ohlc=chart_data(fromtime=datetime.date(2021,8,1),totime=datetime.date(2021,8,10))\n",
    "init_ohlc.t=init_ohlc.t.dt.date\n",
    "aio=pd.DataFrame()\n",
    "no_of_days=len(init_ohlc)\n",
    "\n",
    "# get d1 data\n",
    "dater0=init_ohlc.t.iloc[-1]\n",
    "try:\n",
    "    df=get_madhuko_fs(dater0)\n",
    "except:\n",
    "    df=get_latest_fs()\n",
    "taio=getaio(df)\n",
    "taio['date']=dater0\n",
    "taio=taio.reset_index().set_index(['date','symbol','broker'])\n",
    "aio=pd.concat([aio,taio])\n",
    "df.to_csv(\"fs/\"+str(dater),index=False)\n",
    "print(dater0)\n",
    "\n",
    "for i in range(1,no_of_days):\n",
    "  dater=init_ohlc.t[no_of_days-1-i]\n",
    "  if dater<datetime.date(2021,8,1):\n",
    "      df=get_fs(\"https://datasets.sheezh.com/static/datasets/floorsheets/{}.csv\".format(dater))\n",
    "  else:\n",
    "      df=get_madhuko_fs(dater)\n",
    "  taio=getaio(df)\n",
    "  taio['date']=dater\n",
    "  taio=taio.reset_index().set_index(['date','symbol','broker'])\n",
    "  aio=pd.concat([aio,taio])\n",
    "  print(dater)"
   ]
  },
  {
   "cell_type": "code",
   "execution_count": null,
   "metadata": {},
   "outputs": [],
   "source": [
    "taio=aio.xs(dater0)"
   ]
  },
  {
   "cell_type": "code",
   "execution_count": null,
   "metadata": {},
   "outputs": [],
   "source": [
    "print(\"TOP turnover\")\n",
    "taio.groupby(\"symbol\").sum().sort_values(\"buy_amount\",ascending=False).head(10)"
   ]
  },
  {
   "cell_type": "code",
   "execution_count": null,
   "metadata": {},
   "outputs": [],
   "source": [
    "# change sort_values('buy_amount',...) by appropriate column header\n",
    "taio.groupby(\"broker\").sum().sort_values('sale_amount',ascending=False).head(10)"
   ]
  },
  {
   "cell_type": "code",
   "execution_count": null,
   "metadata": {},
   "outputs": [],
   "source": [
    "# brokersiwse filter|| sort by appropriate column header\n",
    "(taio.xs(\"58\",level='broker')\n",
    "# .query(\"sale_count >= 20\")\n",
    ".sort_values('buy_pct',ascending=False).head(10))"
   ]
  },
  {
   "cell_type": "code",
   "execution_count": null,
   "metadata": {},
   "outputs": [],
   "source": [
    "# stockwise filter|| sort by appropriate column header\n",
    "taio.xs(\"NTC\",level='symbol').sort_values('buy_pct',ascending=False).head()"
   ]
  },
  {
   "cell_type": "code",
   "execution_count": null,
   "metadata": {},
   "outputs": [],
   "source": [
    "print(\"if your desired broker has frequently made cornering !\")\n",
    "broker_id=\"58\" #type broker id here\n",
    "threshhold=20 # threshhold level of buy or sale\n",
    "latest_data=10 #how many latests data you want to use\n",
    "count=2 #minimum how many times it should have been done\n",
    "\n",
    "temp=aio.xs(broker_id,level=2)\n",
    "temp=latest_n_days(temp,latest_data)\n",
    "temp=temp[temp['sale_pct']>=threshhold]\n",
    "cor_raw=temp[temp.groupby([\"symbol\"]).count()>=count].dropna().sort_values([\"symbol\",'date'],ascending=[True,False])\n",
    "cor_raw"
   ]
  },
  {
   "cell_type": "code",
   "execution_count": null,
   "metadata": {},
   "outputs": [],
   "source": [
    "cor_raw.groupby(\"symbol\").agg(\n",
    "    {\n",
    "        # \"sum\"\n",
    "       \"buy_amount\":\"sum\",\"buy_count\":\"sum\",\"buy_qty\":\"sum\",\"sale_amount\":\"sum\",'sale_count':\"sum\",\"sale_qty\":\"sum\",\"sale_pct\":\"sum\"\n",
    "    }\n",
    ").sort_values(\"sale_amount\", ascending=False)"
   ]
  },
  {
   "cell_type": "code",
   "execution_count": null,
   "metadata": {},
   "outputs": [],
   "source": [
    "print(\"Top accumulator and seller of your script chartwise\")\n",
    "script=\"NTC\" #stock symbol here\n",
    "latest_data=no_of_days #how many latests data you want to use|| use 'no_of_days' without quote for all\n",
    "\n",
    "temp=aio.xs(script,level='symbol')\n",
    "temp=latest_n_days(temp,latest_data)\n",
    "temp2=temp.pivot_table(index=\"broker\",values=[\"buy_qty\",\"sale_qty\"],aggfunc=sum)\n",
    "temp2[\"net\"]=temp2.buy_qty-temp2.sale_qty\n",
    "temp2.sort_values(\"net\",ascending=False)\n",
    "temp3=pd.concat([temp2.sort_values(\"net\",ascending=False).head(),temp2.sort_values(\"net\",ascending=False).tail()])\n",
    "temp3.net.plot.bar()"
   ]
  },
  {
   "cell_type": "code",
   "execution_count": null,
   "metadata": {},
   "outputs": [],
   "source": [
    "broker_id=\"58\"\n",
    "script=\"NABIL\" #stock symbol here\n",
    "latest_data=no_of_days #how many latests data you want to use|| use no_of_days for all\n",
    "def daily_net_position_chart(broker_id=broker_id,script=script,latest_data=latest_data,df=aio):\n",
    "    temp=latest_n_days(df,latest_data)\n",
    "    temp=temp.xs(broker_id,level=2)\n",
    "    temp=temp.xs(script,level=1)\n",
    "    temp['net']=(temp.buy_qty-temp.sale_qty)/1\n",
    "    temp.sort_values(\"date\",inplace=True)\n",
    "    temp.net.plot.line()\n",
    "    temp.net.cumsum().plot()\n",
    "    return temp\n",
    "plt.figure(figsize=(16,6))\n",
    "ram=daily_net_position_chart()"
   ]
  },
  {
   "cell_type": "code",
   "execution_count": null,
   "metadata": {},
   "outputs": [],
   "source": [
    "broker_id=\"58\" #stock symbol here\n",
    "latest_data=1 #how many latests data you want to use|| use very high number for all\n",
    "temp=latest_n_days(aio,latest_data)\n",
    "temp=temp.xs(broker_id,level='broker')\n",
    "temp['net']=temp.buy_amount-temp.sale_amount\n",
    "temp2=temp.groupby(\"symbol\").sum()\n",
    "temp2[\"absnet\"]=temp2.net.apply(abs)\n",
    "temp2.sort_values('absnet',ascending=False,inplace=True)\n",
    "temp2.head(10).net.plot.bar()"
   ]
  },
  {
   "cell_type": "code",
   "execution_count": null,
   "metadata": {},
   "outputs": [],
   "source": [
    "url='https://newweb.nepalstock.com.np/api/nots/company/list'\n",
    "resp=requests.get(url,headers=header).json()\n",
    "symbol_sect={}\n",
    "for i in resp:\n",
    "    symbol_sect[i['symbol']]=i['sectorName']\n",
    "def attach_sector(df):\n",
    "    index=aio.index.names\n",
    "    df[\"sector\"]=df.symbol.apply(lambda x: symbol_sect.get(x))\n",
    "    return df\n",
    "def get_public_share(id):\n",
    "    # return id\n",
    "    reply=requests.post(\"https://newweb.nepalstock.com/api/nots/security/\"+str(id),data='{\"id\":758}',headers=header).json()\n",
    "    return reply['publicShares']\n",
    "def get_ps(symbol):\n",
    "   return cpt[cpt[\"symbol\"]==symbol][\"ps\"][0] \n",
    "\n",
    "def get_itype(symbol):\n",
    "    return cpt[cpt[\"symbol\"]==symbol][\"instrumentType\"][0] \n",
    "\n",
    "cpt=pd.read_json(sio(json.dumps(resp)))\n",
    "aio=attach_sector(aio.reset_index())\n",
    "aio[\"type\"]=aio.symbol.apply(get_itype )\n",
    "aio.set_index(\"date symbol broker\".split(),inplace=True)\n"
   ]
  },
  {
   "cell_type": "code",
   "execution_count": null,
   "metadata": {},
   "outputs": [],
   "source": [
    "ns=requests.Session()\n",
    "ns.headers.update(header)"
   ]
  },
  {
   "cell_type": "code",
   "execution_count": null,
   "metadata": {},
   "outputs": [],
   "source": [
    "resp=ns.get(\"https://newweb.nepalstock.com/api/authenticate/prove\")"
   ]
  },
  {
   "cell_type": "code",
   "execution_count": null,
   "metadata": {},
   "outputs": [],
   "source": [
    "def get_sheezh_fs(dater):\n",
    "    url=\"https://datasets.sheezh.com/static/datasets/floorsheets/{}.csv\".format(dater)\n",
    "    df=get_fs(url)\n",
    "    taio=getaio(df)\n",
    "    taio['date']=dater\n",
    "    taio=taio.reset_index().set_index(['date','symbol','broker'])\n",
    "    aio=pd.concat([aio,taio])\n",
    "    print(dater)"
   ]
  },
  {
   "cell_type": "code",
   "execution_count": null,
   "metadata": {},
   "outputs": [],
   "source": [
    "\"https://datasets.sheezh.com/static/datasets/floorsheets/{}.csv\".format(dater)"
   ]
  }
 ],
 "metadata": {
  "interpreter": {
   "hash": "31f2aee4e71d21fbe5cf8b01ff0e069b9275f58929596ceb00d14d90e3e16cd6"
  },
  "kernelspec": {
   "display_name": "Python 3.8.10 64-bit",
   "language": "python",
   "name": "python3"
  },
  "language_info": {
   "codemirror_mode": {
    "name": "ipython",
    "version": 3
   },
   "file_extension": ".py",
   "mimetype": "text/x-python",
   "name": "python",
   "nbconvert_exporter": "python",
   "pygments_lexer": "ipython3",
   "version": "3.8.10"
  },
  "orig_nbformat": 4
 },
 "nbformat": 4,
 "nbformat_minor": 2
}
