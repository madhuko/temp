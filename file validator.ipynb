{
 "cells": [
  {
   "cell_type": "code",
   "execution_count": 1,
   "id": "67a6586b",
   "metadata": {},
   "outputs": [],
   "source": [
    "import requests,json,datetime,time\n",
    "import pandas as pd\n",
    "from io import StringIO as sio\n",
    "pd.options.display.float_format = '{:,.2f}'.format\n",
    "import matplotlib.pyplot as plt\n",
    "# import plotly.express as px"
   ]
  },
  {
   "cell_type": "code",
   "execution_count": 2,
   "id": "f896e65a",
   "metadata": {},
   "outputs": [],
   "source": [
    "\n",
    "header={\n",
    "    'User-Agent': 'Mozilla/5.0 (Windows NT 10.0; Win64; x64) AppleWebKit/537.36 (KHTML, like Gecko) Chrome/90.0.4430.212 Safari/537.36 Edg/90.0.818.66',\n",
    "    'Accept': '*/*',\n",
    "    'content-type': 'application/json',\n",
    "    'Accept-Encoding': 'gzip, deflate, br',\n",
    "    }\n",
    "\n",
    "def getaio(df):\n",
    "    buyer_stack=df.pivot_table(index=\"symbol\", columns='buyer',values=['qty','amt'],aggfunc={'qty':['sum','count'],'amt': 'sum'}).stack(future_stack=True).dropna()\n",
    "    buyer_stack.columns.droplevel()\n",
    "    buyer_stack.columns='amount count qty'.split()\n",
    "    buyer_stack.columns='buy_'+buyer_stack.columns\n",
    "    seller_stack=df.pivot_table(index=\"symbol\", columns='seller',values=['qty','amt'],aggfunc={'qty':['sum','count'],'amt': 'sum'}).stack(future_stack=True).dropna()\n",
    "    seller_stack.columns.droplevel()\n",
    "    seller_stack.columns='amount count qty'.split()\n",
    "    seller_stack.columns='sale_'+seller_stack.columns\n",
    "    buy_sale_stack=pd.concat([buyer_stack,seller_stack],axis=1)\n",
    "    buy_sale_stack.index.names=('symbol','broker')\n",
    "    buy_sale_stack.fillna(0,inplace=True)\n",
    "    buy_pct=buy_sale_stack.buy_qty.groupby(level=0,group_keys=False).apply(lambda x: 100* x/x.sum())\n",
    "    sale_pct=buy_sale_stack.sale_qty.groupby(level=0,group_keys=False).apply(lambda x: 100* x/x.sum())\n",
    "    aio=pd.concat([buy_sale_stack,buy_pct,sale_pct],axis=1)\n",
    "    col_name=list(aio.columns)\n",
    "    col_name[-2:]=[\"buy_pct\",'sale_pct']\n",
    "    aio.columns=col_name\n",
    "    aio.fillna(0,inplace=True)\n",
    "    return aio\n",
    "\n",
    "def latest_n_days(df,n):\n",
    "  unk=df.index.unique(level='date').sort_values(ascending=False)\n",
    "  return df.loc[unk[:n].sort_values()]\n",
    "\n",
    "chart_provider={\n",
    "'nepsechart':'https://ohlcv.nepsechart.com/history?symbol={symbol}&resolution={resolution}&from={fromtime}&to={totime}',\n",
    "'merocapital':'https://chartdata.merocapital.com/datafeed1/history?symbol={symbol}&resolution={resolution}&from={fromtime}&to={totime}',\n",
    "'merolaganida':'https://da.merolagani.com/handlers/TechnicalChartHandler.ashx?type=get_advanced_chart&symbol={symbol}&resolution={resolution}&rangeStartDate={fromtime}&rangeEndDate={totime}&from=&isAdjust=1&currencyCode=NPR',\n",
    "'merolagani':'https://www.merolagani.com/handlers/TechnicalChartHandler.ashx?type=get_advanced_chart&symbol={symbol}&resolution={resolution}&rangeStartDate={fromtime}&rangeEndDate={totime}&from=&isAdjust=1&currencyCode=NPR',\n",
    "'nepsealpha':'https://nepsealpha.com/trading/1/history?symbol={symbol}&resolution={resolution}&from={fromtime}&to={totime}&pass=ok&force=261651&currencyCode=NRS',\n",
    "'nepsedata':'https://nepsedata.com/history?symbol={symbol}&resolution={resolution}&from={fromtime}&to={totime}&currencyCode=NRS'\n",
    "}\n",
    "def chart_data(provider='merolagani',symbol=\"NEPSE\",fromtime=datetime.date(2022,6,1),totime=datetime.datetime.now(),resolution=\"1D\"):\n",
    "    \"\"\"returns data fetched from nepsealpha,merocapital,merolagani and nepsechart.\\nwarning!! \\nNepsechart,merocapital takes D for daily resolution.\\nMerocapital,nepsedata gives unadjusted chart)\"\"\"\n",
    "    fromtime =int(time.mktime(fromtime.timetuple()))\n",
    "    totime =int(time.mktime(totime.timetuple()))\n",
    "    url=chart_provider.get(provider)\n",
    "    df=pd.read_json(sio(requests.get(url.format(symbol=symbol,resolution=resolution,fromtime=fromtime,totime=totime),headers=header).text))\n",
    "    df['t']=df['t'].apply(datetime.datetime.utcfromtimestamp)\n",
    "    df.drop('s',axis=1,inplace=True)\n",
    "    return df"
   ]
  },
  {
   "cell_type": "code",
   "execution_count": 3,
   "id": "84108f00",
   "metadata": {},
   "outputs": [],
   "source": [
    "df=chart_data(provider='merolagani',symbol=\"NEPSE\",fromtime=datetime.date(2014,5,5),totime=datetime.datetime.now(),resolution=\"1D\")"
   ]
  },
  {
   "cell_type": "code",
   "execution_count": 5,
   "id": "ee454b7e",
   "metadata": {},
   "outputs": [],
   "source": [
    "import os\n",
    "import pandas as pd\n",
    "from multiprocessing import Pool, Manager\n",
    "from functools import partial"
   ]
  },
  {
   "cell_type": "code",
   "execution_count": 6,
   "id": "40073294",
   "metadata": {},
   "outputs": [],
   "source": [
    "REQUIRED_COLUMNS = ['contract', 'symbol', 'buyer', 'seller', 'qty', 'rate', 'amt']"
   ]
  },
  {
   "cell_type": "code",
   "execution_count": 7,
   "id": "428f6419",
   "metadata": {},
   "outputs": [],
   "source": [
    "def get_unique_dates(df):\n",
    "    return df['t'].dt.normalize().drop_duplicates()\n",
    "\n",
    "def build_file_path(date_obj):\n",
    "    y = date_obj.strftime('%Y')\n",
    "    d = date_obj.strftime('%Y-%m-%d')\n",
    "    return os.path.join('fs', y, f'{d}'),d\n",
    "\n",
    "# Worker function for each date\n",
    "def check_file_return(date_obj):\n",
    "    path, date_str = build_file_path(date_obj)\n",
    "    print(date_str)\n",
    "    result = {\n",
    "        'file_not_found': [],\n",
    "        'file_column_error': [],\n",
    "        'column_in_caps': []\n",
    "    }\n",
    "\n",
    "    if not os.path.exists(path):\n",
    "        result['file_not_found'].append(date_str)\n",
    "        return result\n",
    "\n",
    "    try:\n",
    "        df_file = pd.read_csv(path)\n",
    "        cols_lower = [c.lower() for c in df_file.columns]\n",
    "\n",
    "        if all(col in cols_lower for col in REQUIRED_COLUMNS):\n",
    "            if all(col.upper() in df_file.columns for col in REQUIRED_COLUMNS):\n",
    "                result['column_in_caps'].append(date_str)\n",
    "        else:\n",
    "            result['file_column_error'].append(date_str)\n",
    "\n",
    "    except Exception:\n",
    "        result['file_column_error'].append(date_str)\n",
    "\n",
    "    return result\n"
   ]
  },
  {
   "cell_type": "code",
   "execution_count": 9,
   "id": "98a22fc7",
   "metadata": {},
   "outputs": [],
   "source": [
    "def process_all_dates(df, workers=20):\n",
    "    dates = get_unique_dates(df)\n",
    "\n",
    "    with Pool(workers) as pool:\n",
    "        results = pool.map(check_file_return, dates)\n",
    "\n",
    "    # Merge all individual results into one\n",
    "    final_result = {\n",
    "        'file_not_found': [],\n",
    "        'file_column_error': [],\n",
    "        'column_in_caps': []\n",
    "    }\n",
    "\n",
    "    for r in results:\n",
    "        for key in final_result:\n",
    "            final_result[key].extend(r[key])\n",
    "\n",
    "    return final_result\n"
   ]
  },
  {
   "cell_type": "code",
   "execution_count": null,
   "id": "8c55f330",
   "metadata": {},
   "outputs": [],
   "source": [
    "process_all_dates(df.head(40))"
   ]
  },
  {
   "cell_type": "code",
   "execution_count": null,
   "id": "ee1601cc",
   "metadata": {},
   "outputs": [],
   "source": []
  },
  {
   "cell_type": "code",
   "execution_count": null,
   "id": "39080d66",
   "metadata": {},
   "outputs": [],
   "source": []
  }
 ],
 "metadata": {
  "kernelspec": {
   "display_name": "Python 3",
   "language": "python",
   "name": "python3"
  },
  "language_info": {
   "codemirror_mode": {
    "name": "ipython",
    "version": 3
   },
   "file_extension": ".py",
   "mimetype": "text/x-python",
   "name": "python",
   "nbconvert_exporter": "python",
   "pygments_lexer": "ipython3",
   "version": "3.13.3"
  }
 },
 "nbformat": 4,
 "nbformat_minor": 5
}
